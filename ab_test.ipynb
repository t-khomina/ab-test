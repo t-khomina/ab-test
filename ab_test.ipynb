{
 "cells": [
  {
   "cell_type": "code",
   "execution_count": 1,
   "id": "f96ae9b1-a3eb-41b7-a981-1fcd398bc3ce",
   "metadata": {},
   "outputs": [],
   "source": [
    "import numpy as np\n",
    "import matplotlib.pyplot as plt\n",
    "import seaborn as sns\n",
    "import pandas as pd\n",
    "import pandahouse\n",
    "import hashlib\n",
    "from scipy import stats\n",
    "from read_db.CH import Getch # коннектор для подключения к БД\n",
    "%matplotlib inline"
   ]
  },
  {
   "cell_type": "code",
   "execution_count": 2,
   "id": "b0599b8b-9c4c-456f-b1d0-c138ea39ae86",
   "metadata": {},
   "outputs": [],
   "source": [
    "connection = {\n",
    "    'host': 'https://clickhouse.lab.karpov.courses',\n",
    "    'password': 'dpo_python_2020',\n",
    "    'user': 'student',\n",
    "    'database': 'simulator_20220520'\n",
    "}"
   ]
  },
  {
   "cell_type": "code",
   "execution_count": 3,
   "id": "42316105-f81a-479f-a420-119176fda20f",
   "metadata": {},
   "outputs": [],
   "source": [
    "q = \"\"\"\n",
    "SELECT exp_group, \n",
    "       user_id,\n",
    "       sum(action = 'like') as likes,\n",
    "       sum(action = 'view') as views,\n",
    "       likes/views as ctr\n",
    "FROM {db}.feed_actions \n",
    "WHERE toDate(time) between '2022-04-24' and '2022-04-30'\n",
    "      and exp_group in (1,2)\n",
    "GROUP BY exp_group, user_id\n",
    "\"\"\"\n",
    "\n",
    "df = pandahouse.read_clickhouse(q, connection=connection)\n",
    "\n",
    "group_A = df[df.exp_group == 2].copy()\n",
    "group_B = df[df.exp_group == 1].copy()\n",
    "#df.groupby('exp_group').count()"
   ]
  },
  {
   "cell_type": "code",
   "execution_count": 4,
   "id": "8efbe906-bba6-4603-afec-9954d4b459a0",
   "metadata": {},
   "outputs": [
    {
     "data": {
      "image/png": "[encoded data removed]",
      "text/plain": [
       "<Figure size 842.4x595.44 with 1 Axes>"
      ]
     },
     "metadata": {},
     "output_type": "display_data"
    }
   ],
   "source": [
    "sns.set(rc={'figure.figsize':(11.7,8.27)}) # Сделаем графики в seaborn покрупнее\n",
    "\n",
    "# Нарисуем распределение\n",
    "groups = sns.histplot(data = df, \n",
    "              x='ctr', \n",
    "              hue='exp_group', \n",
    "              palette = ['r', 'b'],\n",
    "              alpha=0.5,\n",
    "              kde=False)"
   ]
  },
  {
   "cell_type": "markdown",
   "id": "da3df31e-dbdf-4e98-9def-2662040610b0",
   "metadata": {},
   "source": [
    "Сразу заметно, что распределение ctr значительно изменилось"
   ]
  },
  {
   "cell_type": "code",
   "execution_count": 5,
   "id": "e0c5b871-bb67-4b78-9393-345d60bc2876",
   "metadata": {},
   "outputs": [
    {
     "data": {
      "text/plain": [
       "Ttest_indResult(statistic=-0.7094392041270486, pvalue=0.4780623130874935)"
      ]
     },
     "execution_count": 5,
     "metadata": {},
     "output_type": "execute_result"
    }
   ],
   "source": [
    "stats.ttest_ind(group_A.ctr,\n",
    "                group_B.ctr,\n",
    "                equal_var=False)"
   ]
  },
  {
   "cell_type": "markdown",
   "id": "2987cd3c-794d-4fe4-838b-5279daf71d75",
   "metadata": {},
   "source": [
    "Однако результат t-теста не позволяет утверждать, что между группами есть различие"
   ]
  },
  {
   "cell_type": "code",
   "execution_count": 6,
   "id": "462b37c5-0880-4776-b19f-a10e595ff378",
   "metadata": {},
   "outputs": [],
   "source": [
    "def get_smoothed_ctr(user_likes, user_views, global_ctr, alpha):\n",
    "    smoothed_ctr = (user_likes + alpha * global_ctr) / (user_views + alpha)\n",
    "    return smoothed_ctr"
   ]
  },
  {
   "cell_type": "code",
   "execution_count": 7,
   "id": "d03f5083-e512-4ecb-8c0a-0a48696f92ef",
   "metadata": {},
   "outputs": [
    {
     "data": {
      "text/plain": [
       "(0.1980601844115994, 0.20802680490126244)"
      ]
     },
     "execution_count": 7,
     "metadata": {},
     "output_type": "execute_result"
    }
   ],
   "source": [
    "global_ctr_A = df[df.exp_group == 2].likes.sum()/df[df.exp_group == 2].views.sum()\n",
    "global_ctr_B = df[df.exp_group == 1].likes.sum()/df[df.exp_group == 1].views.sum()\n",
    "global_ctr_A, global_ctr_B"
   ]
  },
  {
   "cell_type": "code",
   "execution_count": 8,
   "id": "a55c34a0-eacf-4aac-85dd-8221c9735d31",
   "metadata": {},
   "outputs": [],
   "source": [
    "group_A['smoothed_ctr'] = df.apply(\n",
    "    lambda x: get_smoothed_ctr(x['likes'], x['views'], global_ctr_A, 5), axis=1)\n",
    "group_B['smoothed_ctr'] = df.apply(\n",
    "    lambda x: get_smoothed_ctr(x['likes'], x['views'], global_ctr_B, 5), axis=1)"
   ]
  },
  {
   "cell_type": "code",
   "execution_count": 9,
   "id": "975cc3b9-2117-4e8f-bafb-9ee8caa1ab7e",
   "metadata": {},
   "outputs": [
    {
     "data": {
      "text/plain": [
       "Ttest_indResult(statistic=-2.2841320431616983, pvalue=0.0223769815558559)"
      ]
     },
     "execution_count": 9,
     "metadata": {},
     "output_type": "execute_result"
    }
   ],
   "source": [
    "stats.ttest_ind(group_A.smoothed_ctr,\n",
    "                group_B.smoothed_ctr,\n",
    "                equal_var=False)"
   ]
  },
  {
   "cell_type": "markdown",
   "id": "79153dee-efb4-4dcf-89bc-7a39f62f37f1",
   "metadata": {},
   "source": [
    "А вот t-тест на сглаженном ctr уже показывает различие (p-value меньше 0.05)"
   ]
  },
  {
   "cell_type": "code",
   "execution_count": 10,
   "id": "11b164dc-6dc5-42f7-b9d1-95908b6174ec",
   "metadata": {},
   "outputs": [],
   "source": [
    "def bootstrap(likes1, views1, likes2, views2, n_bootstrap=2000):\n",
    "    poisson_bootstraps1 = stats.poisson(1).rvs(\n",
    "        (n_bootstrap, len(likes1))).astype(np.int64)\n",
    "    poisson_bootstraps2 = stats.poisson(1).rvs(\n",
    "            (n_bootstrap, len(likes2))).astype(np.int64)\n",
    "    \n",
    "    globalCTR1 = (poisson_bootstraps1*likes1).sum(axis=1)/(poisson_bootstraps1*views1).sum(axis=1)\n",
    "    globalCTR2 = (poisson_bootstraps2*likes2).sum(axis=1)/(poisson_bootstraps2*views2).sum(axis=1)\n",
    "\n",
    "    return globalCTR1, globalCTR2"
   ]
  },
  {
   "cell_type": "code",
   "execution_count": 11,
   "id": "7de20e14-2258-412f-9c88-5926e57b27d4",
   "metadata": {},
   "outputs": [],
   "source": [
    "likes1 = df[df.exp_group == 1].likes.to_numpy()\n",
    "views1 = df[df.exp_group == 1].views.to_numpy()\n",
    "likes2 = df[df.exp_group == 2].likes.to_numpy()\n",
    "views2 = df[df.exp_group == 2].views.to_numpy()\n",
    "\n",
    "ctr1, ctr2 = bootstrap(likes1, views1, likes2, views2)"
   ]
  },
  {
   "cell_type": "code",
   "execution_count": 12,
   "id": "84fcce9d-00bc-41e9-9e14-46ec29b7ec1e",
   "metadata": {},
   "outputs": [
    {
     "data": {
      "text/plain": [
       "<AxesSubplot:ylabel='Count'>"
      ]
     },
     "execution_count": 12,
     "metadata": {},
     "output_type": "execute_result"
    },
    {
     "data": {
      "image/png": "[encoded data removed]",
      "text/plain": [
       "<Figure size 842.4x595.44 with 1 Axes>"
      ]
     },
     "metadata": {},
     "output_type": "display_data"
    }
   ],
   "source": [
    "sns.histplot(ctr1)\n",
    "sns.histplot(ctr2)"
   ]
  },
  {
   "cell_type": "markdown",
   "id": "4b1d2b82-0618-4ff3-9779-d05ca62646d7",
   "metadata": {},
   "source": [
    "И по результатам применения пуассоновского бутстрепа видно значимое различие (распределения ctr'ов групп даже не пересекаются)"
   ]
  },
  {
   "cell_type": "code",
   "execution_count": 13,
   "id": "015c55a8-2f7c-439b-8c59-e88af813d827",
   "metadata": {},
   "outputs": [
    {
     "data": {
      "text/plain": [
       "MannwhitneyuResult(statistic=1995.0, pvalue=2.859963936492646e-07)"
      ]
     },
     "execution_count": 13,
     "metadata": {},
     "output_type": "execute_result"
    }
   ],
   "source": [
    "q = \"\"\"\n",
    "SELECT exp_group, bucket,\n",
    "    sum(likes)/sum(views) as bucket_ctr,\n",
    "    quantileExact(0.9)(ctr) as ctr9\n",
    "FROM (SELECT exp_group, \n",
    "        xxHash64(user_id)%50 as bucket,\n",
    "        user_id,\n",
    "        sum(action = 'like') as likes,\n",
    "        sum(action = 'view') as views,\n",
    "        likes/views as ctr\n",
    "    FROM {db}.feed_actions \n",
    "    WHERE toDate(time) between '2022-04-24' and '2022-04-30'\n",
    "        and exp_group in (1,2)\n",
    "    GROUP BY exp_group, bucket, user_id)\n",
    "GROUP BY exp_group, bucket\n",
    "\"\"\"\n",
    "\n",
    "df = pandahouse.read_clickhouse(q, connection=connection)\n",
    "\n",
    "stats.mannwhitneyu(df[df.exp_group == 1].bucket_ctr, \n",
    "                   df[df.exp_group == 2].bucket_ctr, \n",
    "                   alternative = 'two-sided')"
   ]
  },
  {
   "cell_type": "markdown",
   "id": "7873ef29-7378-4ed8-a177-6812b2964307",
   "metadata": {},
   "source": [
    "Тест Манна-Уитни также видит различие"
   ]
  },
  {
   "cell_type": "code",
   "execution_count": 14,
   "id": "b8dfca4b-ae05-40a9-9194-a410ea687487",
   "metadata": {},
   "outputs": [
    {
     "data": {
      "image/png": "[encoded data removed]",
      "text/plain": [
       "<Figure size 842.4x595.44 with 1 Axes>"
      ]
     },
     "metadata": {},
     "output_type": "display_data"
    }
   ],
   "source": [
    "groups = sns.histplot(data = df, \n",
    "              x='bucket_ctr', \n",
    "              hue='exp_group', \n",
    "              palette = ['r', 'b'],\n",
    "              alpha=0.5,\n",
    "              kde=False)"
   ]
  },
  {
   "cell_type": "markdown",
   "id": "fce90f39-9091-4daf-8d27-26ec232210bf",
   "metadata": {},
   "source": [
    "На графике бакетного ctr также видно смещение ctr экспериментальной группы в меньшую сторону"
   ]
  },
  {
   "cell_type": "markdown",
   "id": "10ccce65-5ca9-4362-a702-cfa83614e7da",
   "metadata": {},
   "source": [
    "Итого только t-test не показал различий в ctr, остальные же тесты позволяют утверждать, что общегрупповой ctr экспериментальной группы уменьшился относительно контрольной. В соответствии с тем, что мы изначально выбрали общегрупповой ctr в качестве метрики, увеличения которой мы хотим добиться, раскатывать новый алгоритм на всех новых пользователей нельзя. Однако стоит присмотреться к тому, что у части пользователей на графике распределения ctr видно его увеличение."
   ]
  }
 ],
 "metadata": {
  "kernelspec": {
   "display_name": "Python 3 (ipykernel)",
   "language": "python",
   "name": "python3"
  },
  "language_info": {
   "codemirror_mode": {
    "name": "ipython",
    "version": 3
   },
   "file_extension": ".py",
   "mimetype": "text/x-python",
   "name": "python",
   "nbconvert_exporter": "python",
   "pygments_lexer": "ipython3",
   "version": "3.8.10"
  }
 },
 "nbformat": 4,
 "nbformat_minor": 5
}
